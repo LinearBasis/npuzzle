{
 "cells": [
  {
   "cell_type": "code",
   "execution_count": 1,
   "metadata": {},
   "outputs": [],
   "source": [
    "from numpy.typing import ArrayLike\n",
    "import numpy as np\n",
    "import random"
   ]
  },
  {
   "cell_type": "code",
   "execution_count": 77,
   "metadata": {},
   "outputs": [],
   "source": [
    "def reverse_dir(dir):\n",
    "    if dir == 'l':\n",
    "        return 'r'\n",
    "    if dir == 'r':\n",
    "        return 'l'\n",
    "    if dir == 'u':\n",
    "        return 'd'\n",
    "    if dir == 'd':\n",
    "        return 'u'\n",
    "\n",
    "\n",
    "\n",
    "class state_generator:\n",
    "    dirs = ['l', 'r', 'u', 'd']\n",
    "    ind_generators = {\n",
    "        'l' : lambda ind : (ind[0], ind[1] - 1),\n",
    "        'u' : lambda ind : (ind[0] - 1, ind[1]),\n",
    "        'r' : lambda ind : (ind[0], ind[1] + 1),\n",
    "        'd' : lambda ind : (ind[0] + 1, ind[1])\n",
    "    }\n",
    "\n",
    "    def __init__(self, n : int=4) -> None:\n",
    "        self.n = n\n",
    "\n",
    "    \n",
    "    def random_state(self):                     # генерирует абсолютно случайное состояние (не факт что валидное)\n",
    "        lst = np.arange(1, self.n**2 + 1)\n",
    "        lst[-1] = 0\n",
    "        np.random.shuffle(lst)\n",
    "        return lst.reshape(self.n, self.n)\n",
    "    \n",
    "\n",
    "    def random_valid_state(self):               # генерирует случайное валидное состояние (путем преобразования массива решений)\n",
    "        state = self.solution()\n",
    "        dirs_to_solve = []                      # сюда мы засунем совершенную перестановку\n",
    "        n = random.randint(5, 60)\n",
    "        prev_dir = None\n",
    "\n",
    "        for i in range(n):\n",
    "            tmp_states = self.possible_states(state)\n",
    "            tmp_dirs = [i for i in list(tmp_states.keys()) if i != reverse_dir(prev_dir)]\n",
    "            dir = random.choice(tmp_dirs)\n",
    "            dirs_to_solve.append(dir)\n",
    "            state = tmp_states[dir]\n",
    "            prev_dir = dir\n",
    "        return state, dirs_to_solve\n",
    "\n",
    "\n",
    "    def solution(self):                             # создает решение заданного размера\n",
    "        lst = np.arange(1, self.n**2 + 1)\n",
    "        lst[-1] = 0\n",
    "        return lst.reshape(self.n, self.n)\n",
    "    \n",
    "    \n",
    "    def _do_swap(self, state_arr:ArrayLike, dir:str, ind:ArrayLike):    #swap нулевого элемента в сторону dir\n",
    "        new_state = np.copy(state_arr)\n",
    "        if dir not in state_generator.dirs:\n",
    "            raise Exception(f\"unknown direction, dir must be in {state_generator.dirs}\")\n",
    "        if not self._is_valid_dir(dir, ind):\n",
    "            return None\n",
    "        \n",
    "        new_ind = state_generator.ind_generators[dir](ind)\n",
    "        new_state[ind], new_state[new_ind] = new_state[new_ind], new_state[ind]\n",
    "        return new_state\n",
    "    \n",
    "\n",
    "    def _is_valid_dir(self, dir, ind):                                    # возвращает, допустим ли свап в направление dir\n",
    "        if  (dir == 'l' and ind[1] == 0) or (dir == 'r' and ind[1] == self.n - 1) or \\\n",
    "            (dir == 'u' and ind[0] == 0) or (dir == 'd' and ind[0] == self.n - 1):\n",
    "            return False\n",
    "        return True\n",
    "\n",
    "    def possible_states(self, state_arr):                                 # возвращает словарь {dir : arr} с допустимыми свапами\n",
    "        ind = np.where(state_arr == 0)\n",
    "        dict_states = {}\n",
    "        for dir in state_generator.dirs:\n",
    "            new_state = self._do_swap(state_arr, dir, ind)\n",
    "            if new_state is not None:\n",
    "                dict_states[dir] = new_state\n",
    "        return dict_states\n",
    "        "
   ]
  },
  {
   "cell_type": "code",
   "execution_count": 192,
   "metadata": {},
   "outputs": [],
   "source": [
    "class Solution:\n",
    "    def __init__(self, n : int=4):\n",
    "        self.n = n\n",
    "        self.generator = state_generator(n)\n",
    "    \n",
    "    def get_solution(self, arr:ArrayLike):\n",
    "        if np.shape(arr) != (self.n, self.n):\n",
    "            raise Exception(f\"Shape must be {(self.n, self.n)}\")\n",
    "        raise NotImplementedError"
   ]
  },
  {
   "cell_type": "code",
   "execution_count": 498,
   "metadata": {},
   "outputs": [],
   "source": [
    "N=4\n",
    "sol = Solution(N)\n",
    "gen = state_generator(N)\n"
   ]
  },
  {
   "cell_type": "code",
   "execution_count": 499,
   "metadata": {},
   "outputs": [],
   "source": [
    "def generate_snake_perm(state):\n",
    "    snake = []\n",
    "    n = len(state)\n",
    "    for i in range(n):\n",
    "        if i % 2 == 0:\n",
    "            for j in range(n):\n",
    "                if state[i][j] != 0:\n",
    "                    snake.append(state[i][j])\n",
    "        else:\n",
    "            for j in range(n - 1, -1, -1):\n",
    "                if state[i][j] != 0:\n",
    "                    snake.append(state[i][j])\n",
    "    return snake\n",
    "\n",
    "\n",
    "def count_inversions(arr):\n",
    "    inv = 0\n",
    "    for i in range(len(arr)):\n",
    "        for j in range(i):\n",
    "            if arr[j] > arr[i]:\n",
    "                inv += 1\n",
    "    return inv"
   ]
  }
 ],
 "metadata": {
  "kernelspec": {
   "display_name": "Python 3.8.10 64-bit",
   "language": "python",
   "name": "python3"
  },
  "language_info": {
   "codemirror_mode": {
    "name": "ipython",
    "version": 3
   },
   "file_extension": ".py",
   "mimetype": "text/x-python",
   "name": "python",
   "nbconvert_exporter": "python",
   "pygments_lexer": "ipython3",
   "version": "3.8.10"
  },
  "orig_nbformat": 4,
  "vscode": {
   "interpreter": {
    "hash": "916dbcbb3f70747c44a77c7bcd40155683ae19c65e1c03b4aa3499c5328201f1"
   }
  }
 },
 "nbformat": 4,
 "nbformat_minor": 2
}
